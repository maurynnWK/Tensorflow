{
 "cells": [
  {
   "cell_type": "code",
   "execution_count": 4,
   "metadata": {},
   "outputs": [],
   "source": [
    "import pandas as pd\n",
    "import numpy as np\n",
    "import matplotlib.pyplot as plt\n",
    "import seaborn as sns\n",
    "\n",
    "import tensorflow as tf"
   ]
  },
  {
   "cell_type": "markdown",
   "metadata": {},
   "source": [
    "- Tensorflow is an open source machine learning platform that is owned and maintained by google and is one of the largest open source learning liraries in the world.\n",
    "- It can be usedto build models that can do :\n",
    "  - image classification\n",
    "  - data clustering\n",
    "  - Regression\n",
    "  - Reinforcement learning\n",
    "  - Text classification\n",
    "  - Natural Language Processing\n",
    "  - Classification\n"
   ]
  },
  {
   "cell_type": "markdown",
   "metadata": {},
   "source": [
    "- It works(on a lower level) using two main components Graphs and sessions\n",
    "- Tensorflow works bu building a graph of defined computations.Nothing is computed or stored in this graph.It is  simply a way of defining the operatipns that have being written in code.\n",
    "- A tensorflow session allows parts of a graph to be executed.It allows memory and resources and handles the execution of the operations and computations we've defined\n",
    "- In some cases we need to run a session to be able to execute parts of the graph we've created earlier"
   ]
  },
  {
   "cell_type": "code",
   "execution_count": 5,
   "metadata": {},
   "outputs": [
    {
     "name": "stdout",
     "output_type": "stream",
     "text": [
      "<module 'tensorflow._api.v2.version' from 'C:\\\\Users\\\\ADMIN\\\\AppData\\\\Roaming\\\\Python\\\\Python312\\\\site-packages\\\\tensorflow\\\\_api\\\\v2\\\\version\\\\__init__.py'>\n"
     ]
    }
   ],
   "source": [
    " print(tf.version)"
   ]
  },
  {
   "cell_type": "markdown",
   "metadata": {},
   "source": [
    "- A **tensor** is a generalization of vectors and matrices to potentially higher dimensions.Internally,Tensorflow represents tensors as n-dimensional arrays of base datatypes\n",
    "- They are the fundamental aspect of Tensorflow.They are the main objects that are passed around and manipulated throughout the program.\n",
    "- Each tensor represents a partialy defined compuation and will eventually produce a value.\n",
    "-Tensorflow  programs work by building a raph of Tensor objects taht dtails how tensors are related.Running different parts of the graph allow results to be generated.\n",
    "- Each tensor has a datatype and a shape(dimenion of the data)\n"
   ]
  },
  {
   "cell_type": "code",
   "execution_count": 6,
   "metadata": {},
   "outputs": [],
   "source": [
    "#Creating a tensor \n",
    "string=tf.Variable(\"This is a string\",tf.string)\n",
    "integer=tf.Variable(1234,tf.int16)\n",
    "floating=tf.Variable(23425.8990,tf.float64)"
   ]
  },
  {
   "cell_type": "code",
   "execution_count": 7,
   "metadata": {},
   "outputs": [
    {
     "data": {
      "text/plain": [
       "<tf.Variable 'Variable:0' shape=() dtype=string, numpy=b'This is a string'>"
      ]
     },
     "execution_count": 7,
     "metadata": {},
     "output_type": "execute_result"
    }
   ],
   "source": [
    "string"
   ]
  },
  {
   "cell_type": "markdown",
   "metadata": {},
   "source": [
    "**Rank/Degree of tesors**\n",
    "- This means the number of dimension involved in the tensor.What we've created above are tensors f degree/rank 0 also known as scalar."
   ]
  },
  {
   "cell_type": "code",
   "execution_count": 19,
   "metadata": {},
   "outputs": [
    {
     "name": "stdout",
     "output_type": "stream",
     "text": [
      "<tf.Variable 'Variable:0' shape=(2,) dtype=string, numpy=array([b'Test', b'list'], dtype=object)>\n",
      "<tf.Variable 'Variable:0' shape=(2, 3) dtype=string, numpy=\n",
      "array([[b'test', b'okay', b'yes'],\n",
      "       [b'Test', b'yes', b'okey']], dtype=object)>\n"
     ]
    }
   ],
   "source": [
    "#Tensors of higher degrees/rank\n",
    "rank1_tensor=tf.Variable(['Test','list'],tf.string)#when we have an arrya or list it's absolutely a rank 1 co list or array can store more tthan 1 item even when in one dimension\n",
    "rank2_tensor=tf.Variable([['test','okay','yes'],['Test','yes','okey']],tf.string)\n",
    "print(rank1_tensor)\n",
    "print(rank2_tensor)"
   ]
  },
  {
   "cell_type": "code",
   "execution_count": 20,
   "metadata": {},
   "outputs": [
    {
     "name": "stdout",
     "output_type": "stream",
     "text": [
      "tf.Tensor(1, shape=(), dtype=int32)\n",
      "tf.Tensor(2, shape=(), dtype=int32)\n"
     ]
    }
   ],
   "source": [
    "#to determine rank of atensor\n",
    "print(tf.rank(rank1_tensor))\n",
    "print(tf.rank(rank2_tensor))"
   ]
  },
  {
   "cell_type": "markdown",
   "metadata": {},
   "source": [
    "**Shape of tensor**\n",
    "- Shape of a tensor is amount of elements that exist in each dimension\n",
    "- Sometimes it's knwn sometimes it's not known\n",
    "\n"
   ]
  },
  {
   "cell_type": "code",
   "execution_count": null,
   "metadata": {},
   "outputs": [
    {
     "name": "stdout",
     "output_type": "stream",
     "text": [
      "(2,)\n",
      "(2, 3)\n"
     ]
    }
   ],
   "source": [
    "print(rank1_tensor.shape)#we have 2 items in row one and no other item coz there's no other row/dimesion\n",
    "print(rank2_tensor.shape)#we have 2 rows and 3 columns thus it is 2 by 3 numpy array"
   ]
  },
  {
   "cell_type": "markdown",
   "metadata": {},
   "source": [
    "- Number of elements in a tensor is the product of the sizes of all it's shapes.There are often many shapes thst have the same number of elements making it convinient to be able t cahnge the shape of the tensor \n",
    "- But note the number of elements i  the reshaped tensor must be equal to those in the original tensor"
   ]
  },
  {
   "cell_type": "code",
   "execution_count": null,
   "metadata": {},
   "outputs": [
    {
     "data": {
      "text/plain": [
       "<tf.Tensor: shape=(1, 2, 3), dtype=float32, numpy=\n",
       "array([[[1., 1., 1.],\n",
       "        [1., 1., 1.]]], dtype=float32)>"
      ]
     },
     "execution_count": 22,
     "metadata": {},
     "output_type": "execute_result"
    }
   ],
   "source": [
    "tensor1=tf.ones([1,2,3])#this creates a shape [1,2,3] tensor full of ones\n",
    "tensor1\n",
    "#notice the extrasquare bracket which caters for the 1 "
   ]
  },
  {
   "cell_type": "code",
   "execution_count": null,
   "metadata": {},
   "outputs": [
    {
     "data": {
      "text/plain": [
       "<tf.Tensor: shape=(2, 3, 1), dtype=float32, numpy=\n",
       "array([[[1.],\n",
       "        [1.],\n",
       "        [1.]],\n",
       "\n",
       "       [[1.],\n",
       "        [1.],\n",
       "        [1.]]], dtype=float32)>"
      ]
     },
     "execution_count": 23,
     "metadata": {},
     "output_type": "execute_result"
    }
   ],
   "source": [
    "tensor2=tf.reshape(tensor1,[2,3,1])#reshapes the existing tensor1 to the passed in shape\n",
    "tensor2\n",
    "#an array with 2 nested arrays and each array has 3 rows(lists) and 1 column(each list has this number of items)"
   ]
  },
  {
   "cell_type": "code",
   "execution_count": null,
   "metadata": {},
   "outputs": [
    {
     "data": {
      "text/plain": [
       "<tf.Tensor: shape=(3, 2), dtype=float32, numpy=\n",
       "array([[1., 1.],\n",
       "       [1., 1.],\n",
       "       [1., 1.]], dtype=float32)>"
      ]
     },
     "execution_count": 26,
     "metadata": {},
     "output_type": "execute_result"
    }
   ],
   "source": [
    "tensor3=tf.reshape(tensor2,[3,-1])\n",
    "#-1 tells the tensor to calculate the size if the dimesion in that place \n",
    "#thus this will reshape to [3,2] thus maintaining the number of elements\n",
    "#we gonna have 3 lists and we ginna infer what thsi dimesion should e \n",
    "tensor3"
   ]
  },
  {
   "cell_type": "markdown",
   "metadata": {},
   "source": [
    "**Types of tensors**\n",
    "- Variable \n",
    "- constant\n",
    "- placeholder\n",
    "- sparsetensor\n",
    "- Apart from variable all the tensor types here are inmmutable ie they cannot be changed during execution"
   ]
  },
  {
   "cell_type": "markdown",
   "metadata": {},
   "source": [
    "**Evaluating tensors**\n",
    "- This is basically getting it's value.Since tensors,represents a partially compleye computation we will sometimes need to run what is called  session to evaluate a tensor\n",
    "- There are many ways to achieve this but the simplest but note outdated using the tensor version 2.x is:"
   ]
  },
  {
   "cell_type": "markdown",
   "metadata": {},
   "source": [
    "- with tf.Session() as sess:(creates a session using the defalut graph)\n",
    "    - tensor.eval()\n",
    "- In the code the tensor variable to be  evaluated is stored in the default graph.\n",
    "- We haven't defined a graph yet\n",
    "- This the outdated way and now yu can basically evaluate using normal means eg print()"
   ]
  }
 ],
 "metadata": {
  "kernelspec": {
   "display_name": "Python 3",
   "language": "python",
   "name": "python3"
  },
  "language_info": {
   "codemirror_mode": {
    "name": "ipython",
    "version": 3
   },
   "file_extension": ".py",
   "mimetype": "text/x-python",
   "name": "python",
   "nbconvert_exporter": "python",
   "pygments_lexer": "ipython3",
   "version": "3.12.3"
  }
 },
 "nbformat": 4,
 "nbformat_minor": 2
}
